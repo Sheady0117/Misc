{
  "nbformat": 4,
  "nbformat_minor": 0,
  "metadata": {
    "colab": {
      "provenance": []
    },
    "kernelspec": {
      "name": "python3",
      "display_name": "Python 3"
    },
    "language_info": {
      "name": "python"
    }
  },
  "cells": [
    {
      "cell_type": "code",
      "source": [
        "import pandas as pd\n",
        "import numpy as np\n",
        "\n",
        "#instantiate dataframe, read from .csv file \n",
        "df = pd.read_csv(\"/content/SQL DATABASE.csv\")\n",
        "\n",
        "#add new_worker to dataframe\n",
        "new_worker = {'ssn' : 111222111, 'first_name' : 'Sergio', 'last_name' : 'Perez', 'salary' : 35000, 'bonus' : 5000}\n",
        "df = df.append(new_worker, ignore_index=True)\n",
        "df"
      ],
      "metadata": {
        "id": "86rRNsDMeXZr"
      },
      "execution_count": null,
      "outputs": []
    },
    {
      "cell_type": "code",
      "source": [
        "#This function adds each number together. \n",
        "def sumDigits(no):\n",
        "    return 0 if no == 0 else int(no % 10) + sumDigits(int(no / 10)) "
      ],
      "metadata": {
        "id": "o2eMe2F30ADp"
      },
      "execution_count": 4,
      "outputs": []
    },
    {
      "cell_type": "code",
      "source": [
        "sum_digits = {}\n",
        "i = 0\n",
        "\n",
        "#Save the output of sumDigits(x) to the array sum_digits[i] \n",
        "for x in df['ssn']:\n",
        "\n",
        "  #YOUR CODE HERE\n",
        "\n",
        "  i += 1\n",
        "\n",
        "final_number = 0\n",
        "\n",
        "\n",
        "\n",
        "#Add sum_digits[x] to final_number. You can use += for this. \n",
        "for x in sum_digits:\n",
        "\n",
        "  #YOUR CODE HERE\n",
        "  \n",
        "print(\"Answer:%.2f\" % final_number)"
      ],
      "metadata": {
        "id": "OZyxgDnbz0sf"
      },
      "execution_count": null,
      "outputs": []
    },
    {
      "cell_type": "code",
      "source": [
        "ssn_arr = {}\n",
        "salary_arr = {}\n",
        "bonus_arr = {}\n",
        "sum_ssn = {}\n",
        "\n",
        "i = 0\n",
        "\n",
        "#Saves the values of of each row in ssn column to array. \n",
        "for x in df['ssn']:\n",
        "  ssn_arr[i] = x\n",
        "  i+=1\n",
        "\n",
        "i = 0\n",
        "\n",
        "#Now do this for slaray, and bonus as well. Be sure to reset i to 0 every time to get proper indexing. \n",
        "\n",
        "#YOUR CODE HERE"
      ],
      "metadata": {
        "id": "5IiQbxO20k5m"
      },
      "execution_count": null,
      "outputs": []
    },
    {
      "cell_type": "code",
      "source": [
        "\n",
        "\n",
        "count = 0\n",
        "\n",
        "#Find the income by adding the salary_arr[i] and bonus_arr[i] and saving it to variable income.\n",
        "for i in ssn_arr:\n",
        "  income = #YOUR CODE HERE\n",
        "\n",
        "  #if the income is greater than 80000 put the ssn_arr[i] through the sumDigits function and save it to sum_ssn[count] and incriment count by 1. \n",
        "  if income > 80000:\n",
        "    #YOUR CODE HERE\n",
        "    count +=1\n",
        "\n",
        "total = 0\n",
        "\n",
        "#Take the sum of the sum_ssn array and save it to total. I'll let you do the loop for that one. \n",
        "\n",
        "#YOUR CODE HERE. \n",
        "\n",
        "print(total)"
      ],
      "metadata": {
        "id": "-7ZGUrU11PQQ"
      },
      "execution_count": null,
      "outputs": []
    }
  ]
}